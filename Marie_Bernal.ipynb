{
 "cells": [
  {
   "cell_type": "markdown",
   "id": "948b061a",
   "metadata": {},
   "source": [
    "***PARTE 1***"
   ]
  },
  {
   "cell_type": "markdown",
   "id": "162dfc03",
   "metadata": {},
   "source": [
    "*1. Suma más cercana*"
   ]
  },
  {
   "cell_type": "code",
   "execution_count": 70,
   "id": "5eade070",
   "metadata": {},
   "outputs": [
    {
     "name": "stdout",
     "output_type": "stream",
     "text": [
      "El par de números más cercano a 23 es: [[3, 20], [5, 18]]\n"
     ]
    }
   ],
   "source": [
    "def pares_mas_cercanos(arreglo, objetivo):\n",
    "    pares = []\n",
    "    mejor_suma = 0\n",
    "\n",
    "    for i in range(len(arreglo)):\n",
    "        for j in range(i + 1, len(arreglo)):\n",
    "            a = arreglo[i]\n",
    "            b = arreglo[j]\n",
    "            suma = a + b\n",
    "\n",
    "            if suma <= objetivo:\n",
    "                if suma > mejor_suma:\n",
    "                    mejor_suma = suma\n",
    "                    pares = [[a, b]]\n",
    "                elif suma == mejor_suma:\n",
    "                    pares.append([a, b])\n",
    "\n",
    "    return pares\n",
    "            \n",
    "numeros = [3, 12, 5, 1, 20, 18]\n",
    "objetivo = 23\n",
    "resultado = pares_mas_cercanos(numeros, objetivo)\n",
    "\n",
    "print(\"El par de números más cercano a {} es: {}\".format(objetivo,resultado))"
   ]
  },
  {
   "cell_type": "markdown",
   "id": "84c9731f",
   "metadata": {},
   "source": [
    "*2. Detección de anagramas con limpieza de caracteres*"
   ]
  },
  {
   "cell_type": "code",
   "execution_count": 71,
   "id": "972d8ebc",
   "metadata": {},
   "outputs": [
    {
     "name": "stdout",
     "output_type": "stream",
     "text": [
      "True\n"
     ]
    }
   ],
   "source": [
    "def anagramas(frase_1, frase_2):\n",
    "    \"\".join(frase_1.lower())\n",
    "    \"\".join(frase_2.lower())\n",
    "    for i in frase_1:\n",
    "        if i.isalpha() == False:\n",
    "            frase_1 = frase_1.replace(i, \"\")\n",
    "    for i in frase_2:\n",
    "        if i.isalpha() == False:\n",
    "            frase_2 = frase_2.replace(i, \"\")\n",
    "    \n",
    "    return sorted(frase_1) == sorted(frase_2)\n",
    "\n",
    "texto1 = \"E2lvi&s vi ve%\"\n",
    "texto2 = \"Es 4 evi7l viv\"\n",
    "print(anagramas(texto1, texto2))"
   ]
  },
  {
   "cell_type": "markdown",
   "id": "0a8cd9c4",
   "metadata": {},
   "source": [
    "*3. Inversión de arreglo sin alterar símbolos especiales*"
   ]
  },
  {
   "cell_type": "code",
   "execution_count": 72,
   "id": "d9593d19",
   "metadata": {},
   "outputs": [
    {
     "name": "stdout",
     "output_type": "stream",
     "text": [
      "['f', 'u', '@', '#', 't', 'h']\n"
     ]
    }
   ],
   "source": [
    "def invertir_no_especiales(arreglo):\n",
    "    caracteres_especiales = []\n",
    "    caracteres_no_especiales = []\n",
    "\n",
    "    for i in range(len(arreglo)):\n",
    "        if not arreglo[i].isalpha():\n",
    "            caracteres_especiales.append(i)\n",
    "\n",
    "    for j in range(len(arreglo)):\n",
    "        if j not in caracteres_especiales:\n",
    "            caracteres_no_especiales.append(arreglo[j])\n",
    "    caracteres_no_especiales.reverse()\n",
    "\n",
    "    resultado = []\n",
    "    k = 0  \n",
    "\n",
    "    for i in range(len(arreglo)):\n",
    "        if i in caracteres_especiales:\n",
    "            resultado.append(arreglo[i]) \n",
    "        else:\n",
    "            resultado.append(caracteres_no_especiales[k])\n",
    "            k += 1\n",
    "\n",
    "    return resultado\n",
    "\n",
    "entrada = [\"h\", \"t\", \"@\", \"#\", \"u\", \"f\"]\n",
    "print(invertir_no_especiales(entrada))  "
   ]
  },
  {
   "cell_type": "markdown",
   "id": "cbdfb9d0",
   "metadata": {},
   "source": [
    "*4. Validación lógica de condiciones múltiples*"
   ]
  },
  {
   "cell_type": "code",
   "execution_count": 73,
   "id": "778ecde8",
   "metadata": {},
   "outputs": [
    {
     "name": "stdout",
     "output_type": "stream",
     "text": [
      "Total de palabras: 6\n",
      "Primera palabra: hoy\n",
      "Última palabra: para\n",
      "Texto invertido: paradiabuenuneshoy\n"
     ]
    }
   ],
   "source": [
    "def revisar_texto(texto):\n",
    "    separar_palabras = texto.split()\n",
    "    total = len(separar_palabras)\n",
    "    primera = separar_palabras[0]\n",
    "    ultima = separar_palabras[-1]\n",
    "    invertida = \"\".join(reversed(separar_palabras))\n",
    "    print (\"Total de palabras:\", total)\n",
    "    print (\"Primera palabra:\", primera)\n",
    "    print (\"Última palabra:\", ultima)\n",
    "    print (\"Texto invertido:\",(invertida))\n",
    "\n",
    "ingresar = input(\"Ingrese un texto: \")\n",
    "revisar_texto(ingresar)  "
   ]
  },
  {
   "cell_type": "markdown",
   "id": "e55b0b8a",
   "metadata": {},
   "source": [
    "*5. Validación lógica de condiciones múltiples*"
   ]
  },
  {
   "cell_type": "code",
   "execution_count": null,
   "id": "535518d3",
   "metadata": {},
   "outputs": [
    {
     "name": "stdout",
     "output_type": "stream",
     "text": [
      "Acceso permitido\n"
     ]
    }
   ],
   "source": [
    "def validar_acceso(usuario):\n",
    "    if usuario[\"edad\"] > 21 and usuario[\"verificado\"] and not usuario[\"bloqueado\"]:\n",
    "        return \"Acceso permitido\"\n",
    "    else:\n",
    "        return \"Acceso denegado\"\n",
    "\n",
    "usuario_1 = {\"edad\": 25, \"verificado\": True,\"bloqueado\": False}\n",
    "print(validar_acceso(usuario_1)) "
   ]
  },
  {
   "cell_type": "markdown",
   "id": "74cca041",
   "metadata": {},
   "source": [
    "***Parte2***"
   ]
  },
  {
   "cell_type": "markdown",
   "id": "7317ef3d",
   "metadata": {},
   "source": [
    "**Ejercicio A: Formulario inteligente de registro**"
   ]
  },
  {
   "cell_type": "code",
   "execution_count": 75,
   "id": "f590ee87",
   "metadata": {},
   "outputs": [
    {
     "name": "stdout",
     "output_type": "stream",
     "text": [
      "Contraseña válida\n",
      "Correo válido\n",
      "Bienvenido, Marie Bernal \n",
      "Tu correo electrónico registrado es: marie.bernald@udea.edu.co \n",
      "Tu contraseña cifrada es: @f0n1u1pdmdfn\n"
     ]
    }
   ],
   "source": [
    "def validar_contrasena(contrasena):\n",
    "    if len(contrasena) <= 8:\n",
    "        return \"La contraseña debe tener al menos 8 caracteres.\"\n",
    "    if not any(i.isupper() for i in contrasena):\n",
    "        return \"La contraseña debe contener al menos una letra mayúscula.\"\n",
    "    if not any(i.isdigit() for i in contrasena):\n",
    "        return \"La contraseña debe tener al menos un número.\"\n",
    "    return \"Contraseña válida\"\n",
    "   \n",
    "def validar_correo(correo):\n",
    "\n",
    "    if \"@\" not in correo or \".\" not in correo:\n",
    "        return \"El correo electrónico debe tener @ y .\"\n",
    "    if \"@\" in correo:\n",
    "        partes=correo.split(\"@\")\n",
    "        if partes[0] == \"\" or partes[1] == \"\":\n",
    "            return \"El correo electrónico debe tener un nombre antes de @ y un dominio después de @\"\n",
    "    return \"Correo válido\"\n",
    "        \n",
    "def cifrado_cesar(contraseña):\n",
    "    contraseña = contraseña.lower()\n",
    "    Alfabeto = \"abcdefghijklmnopqrstuvwxyz\"\n",
    "    for i in contraseña:\n",
    "        if i in Alfabeto:\n",
    "            posicion = Alfabeto.index(i)\n",
    "            if posicion > 22:\n",
    "                nueva_posicion = (posicion + 3) - 26\n",
    "            else:\n",
    "                nueva_posicion = (posicion + 3)\n",
    "            contraseña = contraseña.replace(i, Alfabeto[nueva_posicion])\n",
    "    return contraseña\n",
    "            \n",
    "Nombre = input(\"Ingrese su nombre: \")\n",
    "Correo_electronico = input(\"Ingrese su correo electrónico: \")\n",
    "Contraseña = input(\"Ingrese su contraseña: \")\n",
    "resultado_contraseña= validar_contrasena(Contraseña)\n",
    "print(resultado_contraseña)\n",
    "resultado_correo=validar_correo(Correo_electronico)\n",
    "print(resultado_correo)\n",
    "contraseña_cifrada= cifrado_cesar(Contraseña)\n",
    "\n",
    "if resultado_contraseña == \"Contraseña válida\" and resultado_correo ==\"Correo válido\":\n",
    "    print(\"Bienvenido,\", Nombre,\"\\nTu correo electrónico registrado es:\", Correo_electronico,\"\\nTu contraseña cifrada es:\", contraseña_cifrada)"
   ]
  },
  {
   "cell_type": "markdown",
   "id": "2247caa7",
   "metadata": {},
   "source": [
    "**Ejercicio B: Analizador de texto**"
   ]
  },
  {
   "cell_type": "code",
   "execution_count": 76,
   "id": "d1848a36",
   "metadata": {},
   "outputs": [
    {
     "name": "stdout",
     "output_type": "stream",
     "text": [
      "Total de palabras: 16\n",
      "Palabra más corta: ojo\n",
      "Palabra más larga: oscuridad\n",
      "Palabras ordenadas alfabéticamente: ['amistad', 'bata', 'cama', 'cielo', 'comer', 'dormir', 'espejo', 'hola', 'locura', 'ojo', 'oscuridad', 'paz', 'querer', 'reflejo', 'sentir', 'tiempo']\n"
     ]
    }
   ],
   "source": [
    "def analizar_texto(palabra):\n",
    "    palabras = palabra.lower().split()\n",
    "    palabras_totales = len(palabras)\n",
    "    palabras = set(palabras)\n",
    "    palabra_mas_corta = min(palabras, key=len)\n",
    "    palabra_mas_larga = max(palabras, key=len)\n",
    "    palabras_ordenadas = sorted(palabras)\n",
    "    print(\"Total de palabras:\", palabras_totales)\n",
    "    print(\"Palabra más corta:\", palabra_mas_corta)\n",
    "    print(\"Palabra más larga:\", palabra_mas_larga)\n",
    "    print(\"Palabras ordenadas alfabéticamente:\", palabras_ordenadas)\n",
    "\n",
    "palabra= input (\"Ingresa tus palabras, separadas por espacios: Ej:hola mundo: \")\n",
    "analizar_texto(palabra)"
   ]
  }
 ],
 "metadata": {
  "kernelspec": {
   "display_name": "base",
   "language": "python",
   "name": "python3"
  },
  "language_info": {
   "codemirror_mode": {
    "name": "ipython",
    "version": 3
   },
   "file_extension": ".py",
   "mimetype": "text/x-python",
   "name": "python",
   "nbconvert_exporter": "python",
   "pygments_lexer": "ipython3",
   "version": "3.8.5"
  }
 },
 "nbformat": 4,
 "nbformat_minor": 5
}
